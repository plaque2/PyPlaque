{
 "cells": [
  {
   "cell_type": "markdown",
   "metadata": {},
   "source": [
    "#### Loading packages"
   ]
  },
  {
   "cell_type": "code",
   "execution_count": 1,
   "metadata": {},
   "outputs": [
    {
     "name": "stderr",
     "output_type": "stream",
     "text": [
      "/Users/de29/Applications/miniforge3/envs/pyplaque/lib/python3.10/site-packages/tqdm/auto.py:21: TqdmWarning: IProgress not found. Please update jupyter and ipywidgets. See https://ipywidgets.readthedocs.io/en/stable/user_install.html\n",
      "  from .autonotebook import tqdm as notebook_tqdm\n"
     ]
    }
   ],
   "source": [
    "%load_ext autoreload\n",
    "%autoreload 2\n",
    "\n",
    "import math\n",
    "import matplotlib.pyplot as plt\n",
    "import numpy as np\n",
    "import pandas as pd\n",
    "import random\n",
    "\n",
    "from skimage.draw import disk, ellipse, rectangle\n",
    "from skimage.io import imshow, imsave\n",
    "from tqdm.auto import tqdm\n",
    "\n",
    "from PyPlaque.experiment import ExperimentFluorescencePlaque\n",
    "from PyPlaque.utils import picks_area, picks_perimeter\n",
    "from PyPlaque.view import  WellImageReadout\n"
   ]
  },
  {
   "cell_type": "markdown",
   "metadata": {},
   "source": [
    "#### Generate Synthetic Images\n",
    "###### The following functions help us generate synthetic objects on ```(2048, 2048)``` resolution images with objects in white foreground against a black background.<br>```check_overlap``` checks whether two synthetic objects overlap each other from their centres and minimum allowable distance between them.<br>```generate_shapes``` generates the images based on parameters such as circle_radius=50, ellipse_width=100, ratio=0.5, square_side=100 set to these default values but can be changed by user. Please make sure to provide seed to achieve reproducible results and path to save the generated images. Along with the images is generated a list of dictionaries with the 'Area', 'Centroid_X', 'Centroid_Y' and 'Perimeter' corresponding to each shape in each image.\n"
   ]
  },
  {
   "cell_type": "code",
   "execution_count": 2,
   "metadata": {},
   "outputs": [],
   "source": [
    "def check_overlap(center1, center2, distance):\n",
    "    return np.sqrt(np.sum((np.array(center1) - np.array(center2)) ** 2)) < distance\n",
    "\n",
    "\n",
    "def ellipse_perimeter(a, b):\n",
    "    \"\"\"\n",
    "    Calculate the perimeter of an ellipse using Ramanujan's approximation.\n",
    "    \n",
    "    Parameters:\n",
    "    - a: Semi-major axis of the ellipse\n",
    "    - b: Semi-minor axis of the ellipse\n",
    "    \n",
    "    Returns:\n",
    "    - The approximate perimeter of the ellipse\n",
    "    \"\"\"\n",
    "    return math.pi * (3*(a + b) - math.sqrt((3*a + b) * (a + 3*b)))\n",
    "\n",
    "\n",
    "def generate_shapes(circle_radius=50, ellipse_width=100, ratio=0.5, overlap_distance=None,\n",
    "                                                        square_side=100, path=None, seed=None):\n",
    "\n",
    "    if seed is not None:\n",
    "        random.seed(seed) \n",
    "\n",
    "    img = np.zeros((2048, 2048), dtype=np.uint16)  # Create a black 16-bit grayscale image\n",
    "    ground_truth = [] \n",
    "\n",
    "    # Generate 1 circle\n",
    "    center = [random.randint(circle_radius, 2048-circle_radius), \n",
    "                    random.randint(circle_radius, 2048-circle_radius)]  # Randomly specify center\n",
    "    rr, cc = disk(center, circle_radius)\n",
    "    img[rr, cc] = 65535\n",
    "    ground_truth.append({'Area': math.pi * circle_radius ** 2, 'Centroid_Y': center[0],\n",
    "                                'Centroid_X': center[1], 'Perimeter': 2 * math.pi * circle_radius})  \n",
    "\n",
    "    # Generate 1 ellipse with specified eccentricity\n",
    "    height = ellipse_width * ratio\n",
    "    center_ellipse = [random.randint(ellipse_width//2, 2048-ellipse_width//2), \n",
    "                            random.randint(height//2, 2048-height//2)]  # Randomly specify center\n",
    "    while check_overlap(center, center_ellipse, circle_radius + max(ellipse_width//2, height//2)):  \n",
    "        # Ensure the ellipse does not overlap with the circle\n",
    "        center_ellipse = [random.randint(ellipse_width//2, 2048-ellipse_width//2), \n",
    "                                                        random.randint(height//2, 2048-height//2)]\n",
    "    rr, cc = ellipse(center_ellipse[0], center_ellipse[1], ellipse_width//2, height//2)\n",
    "    img[rr, cc] = 65535\n",
    "    ground_truth.append({ 'Area': math.pi * (ellipse_width//2) * (height//2),\n",
    "                                'Centroid_Y': center_ellipse[0], 'Centroid_X': center_ellipse[1],\n",
    "                                'Perimeter':ellipse_perimeter(ellipse_width//2, height//2)})  \n",
    "\n",
    "    # Generate 1 square\n",
    "    start = (random.randint(0, 2048-square_side), random.randint(0, 2048-square_side))  \n",
    "    # Randomly specify start\n",
    "    while check_overlap(center, start, circle_radius + square_side) or \n",
    "    check_overlap(center_ellipse, start, max(ellipse_width//2, height//2) + square_side):  \n",
    "    # Ensure the square does not overlap with the circle or the ellipse\n",
    "        start = (random.randint(0, 2048-square_side), random.randint(0, 2048-square_side))\n",
    "    rr, cc = rectangle(start, extent=(square_side, square_side))\n",
    "    img[rr, cc] = 65535\n",
    "    ground_truth.append({'Area': square_side**2, 'Centroid_Y':(start[0]+square_side//2),\n",
    "        'Centroid_X':(start[1]+square_side//2), 'Perimeter':square_side*4})  # Add to ground truth\n",
    "    \n",
    "    # Add 2 overlapping circles\n",
    "\n",
    "    if overlap_distance == None:\n",
    "        overlap_distance = circle_radius // 2 \n",
    "         \n",
    "    center1 = np.array([random.randint(circle_radius, 2048-circle_radius-2*overlap_distance), \n",
    "                            random.randint(circle_radius, 2048-circle_radius-2*overlap_distance)])\n",
    "    center2 = center1 + np.array([overlap_distance, overlap_distance])  \n",
    "    # Calculate the center of the second circle based on the overlap distance\n",
    "    while check_overlap(center, center1, 2 * circle_radius) or \n",
    "        check_overlap(center_ellipse, center1, max(ellipse_width//2, height//2) + circle_radius) or \n",
    "        check_overlap(center, center2, 2 * circle_radius) or \n",
    "        check_overlap(center_ellipse, center2, max(ellipse_width//2, height//2) + circle_radius) or \n",
    "        check_overlap(start, center1, square_side + circle_radius) or \n",
    "        check_overlap(start, center2, square_side + circle_radius):  \n",
    "        # Ensure the overlapping circles do not overlap with the single circle, the ellipse, or \n",
    "        # the square\n",
    "        center1 = np.array([random.randint(circle_radius, 2048-circle_radius), \n",
    "                                                random.randint(circle_radius, 2048-circle_radius)])\n",
    "        center2 = center1 + np.array([overlap_distance, overlap_distance])\n",
    "    rr, cc = disk(center1, circle_radius)\n",
    "    img[rr, cc] = 65535\n",
    "    rr, cc = disk(center2, circle_radius)\n",
    "    img[rr, cc] = 65535\n",
    "#######\n",
    "    # Calculate the perimeter of each circle\n",
    "    perimeter_each_circle = 2 * math.pi * circle_radius\n",
    "\n",
    "    # Calculate the arc length in radians\n",
    "    arc_length_rad = 2 * math.acos((circle_radius - overlap_distance) / circle_radius)\n",
    "\n",
    "    # Convert the arc length to length units\n",
    "    arc_length = arc_length_rad * circle_radius\n",
    "\n",
    "    # Calculate the total perimeter of the overlapping circles\n",
    "    total_perimeter = 2 * perimeter_each_circle - 2 * arc_length\n",
    "    \n",
    "    # Calculate the area of each sector\n",
    "    area_each_sector = (arc_length_rad / (2 * math.pi)) * math.pi * circle_radius**2\n",
    "\n",
    "    area_each_triangle = (circle_radius**2 / 2) * math.sin(arc_length_rad)\n",
    "\n",
    "    area_each_circle = math.pi * circle_radius**2\n",
    "\n",
    "    area_overlap = 2 * area_each_sector - 2 * area_each_triangle\n",
    "\n",
    "    # Calculate the total area of the two circles including the overlapping region\n",
    "    total_area = 2 * area_each_circle - area_overlap\n",
    "\n",
    "    ground_truth.append({'Area': total_area, 'Centroid_Y': [(center1 + center2) / 2][0][0],\n",
    "        'Centroid_X': [(center1 + center2) / 2][0][1], 'Perimeter':total_perimeter})  \n",
    "        # Add to ground truth\n",
    "    imshow(img, cmap='gray')\n",
    "    if path!=None:\n",
    "        imsave(path, img)\n",
    "\n",
    "    # Generate ground truth\n",
    "    \n",
    "\n",
    "    return img, ground_truth"
   ]
  },
  {
   "cell_type": "markdown",
   "metadata": {},
   "source": [
    "#### Generate synthetic images and ground truth measurements\n",
    "###### Here the actual images are generated by calling the functions above using specific paramters for the shapes and seed. The files are named as ```A0{i}_w2.TIF```, ```i``` being the ith image starting from 1 through 6 (so 5 images in all). The ground truth (gt) obtained from the generating function is saved as a dataframe and can be saved optionally for comparison with other methods later on."
   ]
  },
  {
   "cell_type": "code",
   "execution_count": 3,
   "metadata": {},
   "outputs": [
    {
     "name": "stdout",
     "output_type": "stream",
     "text": [
      "            Area  Centroid_Y  Centroid_X    Perimeter\n",
      "0   70685.834706       425.0      1315.0   942.477796\n",
      "1   28274.333882      1885.0      1703.0   690.384369\n",
      "2  160000.000000      1764.0       329.0  1600.000000\n",
      "3  113733.351193       709.5       428.5  1256.637061\n",
      "4   70685.834706      1888.0       265.0   942.477796\n"
     ]
    },
    {
     "data": {
      "image/png": "[encoded data removed]",
      "text/plain": [
       "<Figure size 640x480 with 1 Axes>"
      ]
     },
     "metadata": {},
     "output_type": "display_data"
    }
   ],
   "source": [
    "# Generate 5 images and ground truth\n",
    "data=[]\n",
    "\n",
    "for i in range(1, 6):\n",
    "    img, gt = generate_shapes(circle_radius=150, ellipse_width=300, ratio=0.4, square_side=400,\n",
    "                                                                                        seed=i)\n",
    "    filename = f\"A0{i}_w2.TIF\"\n",
    "    data.extend(gt) \n",
    "    # imsave(filename, img)\n",
    "\n",
    "# Convert the list of dictionaries to a DataFrame\n",
    "df = pd.DataFrame(data)\n",
    "print(df.head())\n",
    "\n",
    "# Order columns\n",
    "df= df[['Area', 'Centroid_X', 'Centroid_Y', 'Perimeter']]\n",
    "\n",
    "# Optionally, save the DataFrame to a CSV file\n",
    "# df.to_csv(\"gt_res.csv\", index=False)"
   ]
  },
  {
   "cell_type": "markdown",
   "metadata": {},
   "source": [
    "#### Generate PyPlaque measurements on the synthetic images\n",
    "###### Since we would now like to compare the readouts from PyPlaque to other methods, we treat the synthetic images as wells of a plate and define a new ```ExperimentFluorescencePlaque``` class instance to work with them.<br>Using ```exp.get_individual_plates()``` we get the individual plate and plate mask folders for the given pattern and ```exp.get_number_of_plates()``` gives us the number of plates found according to pattern, here just 1.<br>```exp.load_wells_for_plate_virus()``` helps us load into memory all data corresponding to the index of the plates found ```plate_id```, file pattern ```file_pattern``` and file extension ```ext```. Here the synthetic images are read as images and the masks path is empty and therefore masks are generated at runtime, but it does not matter since we do not need both specifically for this task. We also use the virus channel here since this shapes are larger filled objects which are more likely for to resemble the virus channel than the nuclei."
   ]
  },
  {
   "cell_type": "code",
   "execution_count": 4,
   "metadata": {},
   "outputs": [
    {
     "name": "stdout",
     "output_type": "stream",
     "text": [
      "['synthetic_plate'] ['synthetic_plate']\n",
      "1\n"
     ]
    }
   ],
   "source": [
    "base_dir = '../../../../data_backup/synthetic_images/'\n",
    "exp = ExperimentFluorescencePlaque(base_dir+'images', base_dir+'masks', params = None) \n",
    "# default values in class, option to update\n",
    "\n",
    "#In this case, the synthetic plate have 5 wells filled with synthetic shapes\n",
    "plate_dirs, plate_mask_dirs = exp.get_individual_plates(folder_pattern=r'^synthetic')\n",
    "\n",
    "print(plate_dirs, plate_mask_dirs)\n",
    "\n",
    "#We are choosing via the pattern above to ignore all other plates other than this one\n",
    "print(exp.get_number_of_plates())"
   ]
  },
  {
   "cell_type": "code",
   "execution_count": 5,
   "metadata": {},
   "outputs": [
    {
     "name": "stderr",
     "output_type": "stream",
     "text": [
      "5it [00:00, 12818.78it/s]\n",
      "100%|██████████| 5/5 [00:00<00:00, 351.66it/s]\n",
      "100%|██████████| 5/5 [00:02<00:00,  2.19it/s]"
     ]
    },
    {
     "name": "stdout",
     "output_type": "stream",
     "text": [
      "dict_keys(['synthetic_plate'])\n"
     ]
    },
    {
     "name": "stderr",
     "output_type": "stream",
     "text": [
      "\n"
     ]
    }
   ],
   "source": [
    "plate_dict_synthetic_w2 = exp.load_wells_for_plate_virus(plate_id=0, additional_subfolders=None,\n",
    "                                                                file_pattern=r'_w2', ext='*.TIF')\n",
    "print(plate_dict_synthetic_w2.keys())"
   ]
  },
  {
   "cell_type": "code",
   "execution_count": 6,
   "metadata": {},
   "outputs": [
    {
     "name": "stdout",
     "output_type": "stream",
     "text": [
      "../../../../data_backup/synthetic_images/images/synthetic_plate/A03_w2.TIF\n"
     ]
    },
    {
     "data": {
      "text/plain": [
       "<matplotlib.image.AxesImage at 0x173926110>"
      ]
     },
     "execution_count": 6,
     "metadata": {},
     "output_type": "execute_result"
    },
    {
     "data": {
      "image/png": "[encoded data removed]",
      "text/plain": [
       "<Figure size 640x480 with 1 Axes>"
      ]
     },
     "metadata": {},
     "output_type": "display_data"
    }
   ],
   "source": [
    "# Sample of an image name and image from the loaded dictionary of data plate_dict_synthetic_w2\n",
    "print(plate_dict_synthetic_w2[plate_dirs[0]]['image_name'][2])\n",
    "plt.imshow(plate_dict_synthetic_w2[plate_dirs[0]]['img'][2], cmap='gray')"
   ]
  },
  {
   "cell_type": "markdown",
   "metadata": {},
   "source": [
    "###### Verifying the number of images and corresponding data loaded into the dictionary by ```exp.load_wells_for_plate_virus()```"
   ]
  },
  {
   "cell_type": "code",
   "execution_count": 7,
   "metadata": {},
   "outputs": [
    {
     "name": "stdout",
     "output_type": "stream",
     "text": [
      "5\n"
     ]
    }
   ],
   "source": [
    "print(len(plate_dict_synthetic_w2[plate_dirs[0]]['img']))"
   ]
  },
  {
   "cell_type": "markdown",
   "metadata": {},
   "source": [
    "###### Iterating through all the images and masks in ```plate_dict_synthetic_w2```. We instantiate an instance of class ```WellImageReadout``` for every image, treating the image as both the nuclei and plaque image, also the same mask as nuclei and plaque mask. We then extract all the plaque objects and provided that at least 1 plaque is found, get the area and perimeter for each shape using ```Pick's theorem```. Centroid_X and Centroid_Y are no different than the other methods. We once again create a dataframe of this output like the ground_truth and have the option to save it for future use."
   ]
  },
  {
   "cell_type": "code",
   "execution_count": 8,
   "metadata": {},
   "outputs": [
    {
     "name": "stderr",
     "output_type": "stream",
     "text": [
      "  0%|          | 0/5 [00:00<?, ?it/s]"
     ]
    },
    {
     "name": "stderr",
     "output_type": "stream",
     "text": [
      "100%|██████████| 5/5 [00:04<00:00,  1.09it/s]\n"
     ]
    }
   ],
   "source": [
    "d = plate_dirs[0]\n",
    "output = []\n",
    "pad = 10\n",
    "for i in tqdm(range(len(plate_dict_synthetic_w2[d]['img']))):\n",
    "    plq_image_readout = WellImageReadout(nuclei_image_name=str(plate_dict_synthetic_w2[d]\n",
    "                                        ['image_name'][i]).split(\"/\")[-1],\n",
    "                plaque_image_name=str(plate_dict_synthetic_w2[d]['image_name'][i]).split(\"/\")[-1],\n",
    "                nuclei_image=np.array(plate_dict_synthetic_w2[d]['img'][i]),\n",
    "                plaque_image=np.array(plate_dict_synthetic_w2[d]['img'][i]),\n",
    "                nuclei_mask=np.array(plate_dict_synthetic_w2[d]['mask'][i]),\n",
    "                plaque_mask=np.array(plate_dict_synthetic_w2[d]['mask'][i]),\n",
    "                virus_params=exp.params['virus'])\n",
    "\n",
    "    plq_objects = plq_image_readout.get_plaque_objects()\n",
    "\n",
    "    if len(plq_objects) != 0:\n",
    "        plq_object_readouts = [plq_image_readout.call_plaque_object_readout(plq_object,\n",
    "                                                                exp.params['virus']) \n",
    "                                                                for plq_object in plq_objects]\n",
    "        for plq_object_readout in plq_object_readouts:\n",
    "            data = {\n",
    "                        'Area': picks_area(plate_dict_synthetic_w2[d]['img'][i]\n",
    "                        [(plq_object_readout.get_bbox()[0]-pad) : \n",
    "                        (plq_object_readout.get_bbox()[0]+plq_object_readout.get_bbox()[2]+pad),\n",
    "                        (plq_object_readout.get_bbox()[1]-plq_object_readout.get_bbox()[3]-pad) : \n",
    "                        (plq_object_readout.get_bbox()[1]+pad)]),\n",
    "                        'Centroid_X': plq_object_readout.get_centroid()[1], \n",
    "                        'Centroid_Y': plq_object_readout.get_centroid()[0],\n",
    "                        'Perimeter': picks_perimeter(plate_dict_synthetic_w2[d]\n",
    "                        ['img'][i][(plq_object_readout.get_bbox()[0]-pad) : \n",
    "                        (plq_object_readout.get_bbox()[0]+plq_object_readout.get_bbox()[2]+pad),\n",
    "                        (plq_object_readout.get_bbox()[1]-plq_object_readout.get_bbox()[3]-pad) : \n",
    "                        (plq_object_readout.get_bbox()[1]+pad)]),\n",
    "                    }\n",
    "                \n",
    "            output.append(data)\n"
   ]
  },
  {
   "cell_type": "code",
   "execution_count": 9,
   "metadata": {},
   "outputs": [
    {
     "name": "stdout",
     "output_type": "stream",
     "text": [
      "        Area  Centroid_X  Centroid_Y    Perimeter\n",
      "0    69812.0      1315.0       425.0   988.000000\n",
      "1   100779.0       428.5       709.5  1238.828427\n",
      "2   158403.0       328.5      1763.5  1604.000000\n",
      "3    27588.0      1703.0      1885.0   704.000000\n",
      "4    27588.0       233.0       337.0   704.000000\n",
      "5   100779.0       702.5       818.5  1238.828427\n",
      "6   158403.0      1570.5      1706.5  1604.000000\n",
      "7    69812.0       265.0      1888.0   988.000000\n",
      "8   100779.0       661.5       495.5  1238.828427\n",
      "9    69812.0      1363.0       637.0   988.000000\n",
      "10   27588.0       327.0      1264.0   704.000000\n",
      "11  158403.0      1174.5      1324.5  1604.000000\n",
      "12   27588.0      1537.0       361.0   704.000000\n",
      "13  158403.0       383.5       516.5  1604.000000\n",
      "14   69812.0       771.0       633.0   988.000000\n",
      "15  100779.0      1312.5      1009.5  1238.828427\n",
      "16  100779.0      1776.5      1140.5  1238.828427\n",
      "17  158403.0       258.5      1284.5  1604.000000\n",
      "18   69812.0       673.0      1425.0   988.000000\n",
      "19   27588.0      1474.0      1778.0   704.000000\n"
     ]
    }
   ],
   "source": [
    "# Create a DataFrame from the list of dictionaries\n",
    "output_df = pd.DataFrame(output)\n",
    "\n",
    "# Save the DataFrame to a CSV file\n",
    "# output_df.to_csv(\"../../../../data_backup/synthetic_images/pyplaque_res_picks.csv\", index=False)\n",
    "\n",
    "print(output_df)"
   ]
  },
  {
   "cell_type": "markdown",
   "metadata": {},
   "source": [
    "#### Compare readouts\n",
    "###### Here we read the dataframes (named accordingly) corresponding to each method of calculating the area and perimeter of the shapes. Please note that scikit_image_df and pyplaque_df can both be generated by PyPlaque by using the appropriate flags.<br>Each of the dataframes have 20 rows (5 images and 4 objects in each, 1 of each category). We would now need to average metrics over these 5 images for each shape. For this we first sort the read dataframes by Area, Centroid_X and Centroid_Y. This works since the objects have an explicit ordering based on Area and the 5 circles for eg. in all 5 images will be clustered together and so on. We reset the index and get groups by doing integer division by 5 so that {0, ..., 4} are mapped to 0, {5, ..., 9} are mapped to 1 and so on. Then we can do groupby on resulting dataframe and calculate the ```mean()``` and ```std()```."
   ]
  },
  {
   "cell_type": "code",
   "execution_count": 10,
   "metadata": {},
   "outputs": [],
   "source": [
    "gt_df = pd.read_csv(\"../../../../data_backup/synthetic_images/gt_res.csv\")\n",
    "pyplaque_df = pd.read_csv(\"../../../../data_backup/synthetic_images/pyplaque_res_picks.csv\")\n",
    "scikit_image_df = pd.read_csv(\"../../../../data_backup/synthetic_images/pyplaque_res.csv\")\n",
    "matlab_df = pd.read_csv(\"../../../../data_backup/synthetic_images/matlab_res.csv\")\n",
    "fiji_df = pd.read_csv(\"../../../../data_backup/synthetic_images/fiji_res.csv\")   \n",
    "\n",
    "# Each of these have 20 rows (5 images and 4 objects in each, 1 of each category)\n",
    "# We now need to consolidate metrics over these 4 object categories from the 5 images\n",
    "gt_df = gt_df.sort_values(by=['Area', 'Centroid_X', 'Centroid_Y'], ascending=[True, True, True])\n",
    "pyplaque_df = pyplaque_df.sort_values(by=['Area', 'Centroid_X', 'Centroid_Y'], \n",
    "                                                                ascending=[True, True, True])\n",
    "scikit_image_df = scikit_image_df.sort_values(by=['Area', 'Centroid_X', 'Centroid_Y'], \n",
    "                                                                ascending=[True, True, True])\n",
    "matlab_df = matlab_df.sort_values(by=['Area', 'Centroid_X', 'Centroid_Y'], \n",
    "                                                                ascending=[True, True, True])\n",
    "fiji_df = fiji_df.sort_values(by=['Area', 'Centroid_X', 'Centroid_Y'], \n",
    "                                                                ascending=[True, True, True])\n",
    "\n",
    "# indices here are indicative of the shapes, so 0-3 inclusive are shapes in synthetic image #1, \n",
    "# 4-7 in synthetic image #2 and so on\n",
    "# Now we use the integer division of indices to get all row indices corresponding to one \n",
    "# shape to a single value\n",
    "\n",
    "gt_df = gt_df.reset_index(drop=True)\n",
    "pyplaque_df = pyplaque_df.reset_index(drop=True)\n",
    "scikit_image_df = scikit_image_df.reset_index(drop=True)\n",
    "matlab_df = matlab_df.reset_index(drop=True)\n",
    "fiji_df = fiji_df.reset_index(drop=True)\n",
    "\n",
    "average_gt_df = gt_df.groupby(gt_df.index // 5).mean().drop(columns=['Centroid_X', 'Centroid_Y'])\n",
    "average_pyplaque_df = pyplaque_df.groupby(pyplaque_df.index // 5).mean().drop(\n",
    "                                                            columns=['Centroid_X', 'Centroid_Y'])\n",
    "average_scikit_image_df = scikit_image_df.groupby(scikit_image_df.index // 5).mean().drop(\n",
    "                                                            columns=['Centroid_X', 'Centroid_Y'])\n",
    "average_matlab_df = matlab_df.groupby(matlab_df.index // 5).mean().drop(\n",
    "                                                            columns=['Centroid_X', 'Centroid_Y'])\n",
    "average_fiji_df = fiji_df.groupby(fiji_df.index // 5).mean().drop(\n",
    "                                                            columns=['Centroid_X', 'Centroid_Y'])\n",
    "\n",
    "average_gt_df = average_gt_df.sort_values(by=['Area', 'Perimeter'], ascending=[True, True])\n",
    "average_pyplaque_df = average_pyplaque_df.sort_values(by=['Area', 'Perimeter'], \n",
    "                                                                    ascending=[True, True])\n",
    "average_scikit_image_df = average_scikit_image_df.sort_values(by=['Area', 'Perimeter'], \n",
    "                                                                    ascending=[True, True])\n",
    "average_matlab_df = average_matlab_df.sort_values(by=['Area', 'Perimeter'], ascending=[True, True])\n",
    "average_fiji_df = average_fiji_df.sort_values(by=['Area', 'Perimeter'], ascending=[True, True])\n",
    "\n",
    "std_gt_df = gt_df.groupby(gt_df.index // 5).std().drop(columns=['Centroid_X', 'Centroid_Y'])\n",
    "std_pyplaque_df = pyplaque_df.groupby(pyplaque_df.index // 5).std().drop(\n",
    "                                                        columns=['Centroid_X', 'Centroid_Y'])\n",
    "std_scikit_image_df = scikit_image_df.groupby(scikit_image_df.index // 5).std().drop(\n",
    "                                                        columns=['Centroid_X', 'Centroid_Y'])\n",
    "std_matlab_df = matlab_df.groupby(matlab_df.index // 5).std().drop(\n",
    "                                                        columns=['Centroid_X', 'Centroid_Y'])\n",
    "std_fiji_df = fiji_df.groupby(fiji_df.index // 5).std().drop(columns=['Centroid_X', 'Centroid_Y'])\n"
   ]
  },
  {
   "cell_type": "markdown",
   "metadata": {},
   "source": [
    "###### A look at the dataframes after averaging across 5 images for each shape. Here the row indices correspond to the different shapes, ellipse, circle, overlapping circles and square with IDs, 0, 1, 2, and 3 respectively."
   ]
  },
  {
   "cell_type": "code",
   "execution_count": 11,
   "metadata": {},
   "outputs": [
    {
     "name": "stdout",
     "output_type": "stream",
     "text": [
      "GT:\n",
      "            Area    Perimeter\n",
      "0   28274.333882   690.384369\n",
      "1   70685.834706   942.477796\n",
      "2  113733.351193  1256.637061\n",
      "3  160000.000000  1600.000000\n",
      "PYPLAQUE:\n",
      "       Area    Perimeter\n",
      "0   27588.0   704.000000\n",
      "1   69812.0   988.000000\n",
      "2  100779.0  1238.828427\n",
      "3  158403.0  1604.000000\n",
      "SCIKIT-IMAGE:\n",
      "       Area    Perimeter\n",
      "0   28233.0   721.872150\n",
      "1   70661.0   990.489465\n",
      "2  101806.0  1219.023520\n",
      "3  160000.0  1596.000000\n",
      "MATLAB:\n",
      "       Area  Perimeter\n",
      "0   28233.0    686.456\n",
      "1   70661.0    939.000\n",
      "2  101806.0   1155.220\n",
      "3  160000.0   1563.716\n",
      "FIJI:\n",
      "       Area  Perimeter\n",
      "0   28233.0    722.943\n",
      "1   70661.0    991.561\n",
      "2  101806.0   1218.923\n",
      "3  160000.0   1597.657\n"
     ]
    },
    {
     "name": "stderr",
     "output_type": "stream",
     "text": [
      "/var/folders/ww/drh8wc992nxcqb4z8dmykc440000gn/T/ipykernel_71611/2734948987.py:23: SettingWithCopyWarning: \n",
      "A value is trying to be set on a copy of a slice from a DataFrame\n",
      "\n",
      "See the caveats in the documentation: https://pandas.pydata.org/pandas-docs/stable/user_guide/indexing.html#returning-a-view-versus-a-copy\n",
      "  all_dfs.iloc[i]['Area_Group'] = group_num\n",
      "/var/folders/ww/drh8wc992nxcqb4z8dmykc440000gn/T/ipykernel_71611/2734948987.py:27: SettingWithCopyWarning: \n",
      "A value is trying to be set on a copy of a slice from a DataFrame\n",
      "\n",
      "See the caveats in the documentation: https://pandas.pydata.org/pandas-docs/stable/user_guide/indexing.html#returning-a-view-versus-a-copy\n",
      "  all_dfs.iloc[i]['Area_Group'] = group_num\n"
     ]
    }
   ],
   "source": [
    "print('GT:')\n",
    "print(average_gt_df)\n",
    "print('PYPLAQUE:')\n",
    "print(average_pyplaque_df)\n",
    "print('SCIKIT-IMAGE:')\n",
    "print(average_scikit_image_df)\n",
    "print('MATLAB:')\n",
    "print(average_matlab_df)\n",
    "print('FIJI:')\n",
    "print(average_fiji_df)"
   ]
  }
 ],
 "metadata": {
  "kernelspec": {
   "display_name": "Python 3",
   "language": "python",
   "name": "python3"
  },
  "language_info": {
   "codemirror_mode": {
    "name": "ipython",
    "version": 3
   },
   "file_extension": ".py",
   "mimetype": "text/x-python",
   "name": "python",
   "nbconvert_exporter": "python",
   "pygments_lexer": "ipython3",
   "version": "3.10.8"
  }
 },
 "nbformat": 4,
 "nbformat_minor": 2
}
